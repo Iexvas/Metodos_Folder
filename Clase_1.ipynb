{
 "cells": [
  {
   "cell_type": "markdown",
   "id": "22dd26dd",
   "metadata": {},
   "source": [
    "<h1 style=\"text-align:center;\">ESCUELA POLITÉCNICA NACIONAL</h1>\n",
    "<h2 style=\"text-align:center;\">FACULTAD DE INGENIERÍA DE SISTEMAS</h2>\n",
    "<h3 style=\"text-align:center;\">INGENIERÍA EN COMPUTACIÓN</h3>"
   ]
  },
  {
   "cell_type": "markdown",
   "id": "5064e827",
   "metadata": {},
   "source": [
    "**PERÍODO ACADÉMICO:** 2025-A  \n",
    "**ASIGNATURA:** ICCD412 Métodos Numéricos  \n",
    "**GRUPO:** GR2  \n",
    "**TIPO DE INSTRUMENTO:** Clase_1<br>\n",
    "**FECHA DE ENTREGA LÍMITE:** [04/05/2025]  \n",
    "**ALUMNO:** Alexis Vasco"
   ]
  },
  {
   "cell_type": "code",
   "execution_count": 1,
   "id": "3acf0c6d",
   "metadata": {},
   "outputs": [],
   "source": [
    "# Librerías usadas en todo el notebook\n",
    "import math"
   ]
  },
  {
   "cell_type": "markdown",
   "id": "79b06f22",
   "metadata": {},
   "source": [
    "## CLASE 02/22/2025  \n",
    "## Método Analíticos\n",
    "- Para tomar en cuenta soluciones matemáticas\n",
    "- Da una solución exacta\n",
    "- Esta es probable con solución\n",
    "  "
   ]
  },
  {
   "cell_type": "markdown",
   "id": "6aeb4dd8",
   "metadata": {},
   "source": [
    "## Método Numéricos\n",
    "- Soluciones en expresiones matemáticas\n",
    "- Aproximaciones a los valores\n",
    "- Problemas complejos o sin soulció exacta\n"
   ]
  },
  {
   "cell_type": "markdown",
   "id": "8448ac05",
   "metadata": {},
   "source": [
    "##  Tipos de errores\n",
    "\n",
    "###  Error de corte o truncamiento\n",
    "\n",
    "- Se produce cuando **cortamos** un número sin aplicar redondeo, según el número de cifras significativas solicitadas.\n",
    "- Un algoritmo con **truncamiento fijo** puede ser **exacto** (cumple con su propósito), pero **no necesariamente preciso** (no se acerca al valor real).\n",
    "- Es común en implementaciones numéricas cuando se busca simplicidad o rapidez.\n",
    "> 📌 **Nota:** Aunque el truncamiento puede parecer inocente, puede acumular errores en algoritmos iterativos.\n"
   ]
  },
  {
   "cell_type": "code",
   "execution_count": 5,
   "id": "18240b75",
   "metadata": {},
   "outputs": [
    {
     "name": "stdout",
     "output_type": "stream",
     "text": [
      " Número dado: 2.7182818284\n",
      " Número hecho el truncamiento :2.7182\n"
     ]
    }
   ],
   "source": [
    "numero_dado = 2.7182818284\n",
    "num_singificativas = 4\n",
    "factor = 10 ** num_singificativas\n",
    "truncamiento = int(numero_dado * factor)/factor\n",
    "\n",
    "print(f\" Número dado: {numero_dado}\")\n",
    "print(f\" Número hecho el truncamiento :{truncamiento}\")\n"
   ]
  },
  {
   "cell_type": "markdown",
   "id": "12546fc5",
   "metadata": {},
   "source": [
    "### Error de redondeo\n",
    "- Redondeamos según el número de sifras singificativas, si le numero de a lado de ese número es mayor o igual que 5, se le redondea sumando 1 al número hasta donde llega las sifras sinficativas.\n",
    "> 📌**Nota:** Un algoritmo con mucho redondeo, puede ser preciso pero no exacto."
   ]
  },
  {
   "cell_type": "code",
   "execution_count": 9,
   "id": "310583d1",
   "metadata": {},
   "outputs": [
    {
     "name": "stdout",
     "output_type": "stream",
     "text": [
      " Número dado: 2.7182818284\n",
      " Número hecho el truncamiento :2.7183\n"
     ]
    }
   ],
   "source": [
    "numero_dado = 2.7182818284\n",
    "num_singificativas = 4\n",
    "factor = 10 ** num_singificativas\n",
    "redondeo = round(numero_dado * factor)/factor\n",
    "\n",
    "print(f\" Número dado: {numero_dado}\")\n",
    "print(f\" Número hecho el truncamiento :{redondeo}\")"
   ]
  },
  {
   "cell_type": "markdown",
   "id": "54aed3c6",
   "metadata": {},
   "source": [
    "### Error por desvordamiento\n",
    "  - Aveces tiene limites finitos de almacenamiento de números\n",
    "  "
   ]
  },
  {
   "cell_type": "code",
   "execution_count": 1,
   "id": "8748e623",
   "metadata": {},
   "outputs": [
    {
     "name": "stdout",
     "output_type": "stream",
     "text": [
      "Error: Se produjo un desbordamiento al intentar calcular un número demasiado grande.\n"
     ]
    }
   ],
   "source": [
    "# Ejemplo de error por desbordamiento\n",
    "import math\n",
    "\n",
    "try:\n",
    "    # Intentamos calcular un número extremadamente grande\n",
    "    resultado = math.exp(1000)  # Esto genera un OverflowError\n",
    "    print(f\"Resultado: {resultado}\")\n",
    "except OverflowError:\n",
    "    print(\"Error: Se produjo un desbordamiento al intentar calcular un número demasiado grande.\")"
   ]
  },
  {
   "cell_type": "markdown",
   "id": "eba9d352",
   "metadata": {
    "vscode": {
     "languageId": "latex"
    }
   },
   "source": [
    "## Calculo de error\n",
    "### Error real\n",
    "$$\n",
    "E_r = V_{real} - V_{aproximado}\n",
    "$$"
   ]
  },
  {
   "cell_type": "code",
   "execution_count": 2,
   "id": "8103147d",
   "metadata": {},
   "outputs": [
    {
     "name": "stdout",
     "output_type": "stream",
     "text": [
      "-0.004007346410206836\n"
     ]
    }
   ],
   "source": [
    "import math\n",
    "numero = 3.14156\n",
    "error_real = math.pi - 3.1456\n",
    "print(error_real)\n"
   ]
  },
  {
   "cell_type": "markdown",
   "id": "c73d3889",
   "metadata": {},
   "source": [
    "### Error absoluto\n",
    "$$\n",
    "E_r = |V_{real} - V_{aproximado}|\n",
    "$$"
   ]
  },
  {
   "cell_type": "code",
   "execution_count": 3,
   "id": "21883e82",
   "metadata": {},
   "outputs": [
    {
     "name": "stdout",
     "output_type": "stream",
     "text": [
      "0.004007346410206836\n"
     ]
    }
   ],
   "source": [
    "import math\n",
    "numero = 3.14156\n",
    "error_absoluto = abs(math.pi - 3.1456)\n",
    "print(error_absoluto)"
   ]
  },
  {
   "cell_type": "markdown",
   "id": "fe6b8595",
   "metadata": {},
   "source": [
    "### Error realtivo\n",
    "$$\n",
    "E_r = \\frac{|V_{real} - V_{aproximado}|}{|V_{real}|}\n",
    "$$"
   ]
  },
  {
   "cell_type": "code",
   "execution_count": 6,
   "id": "703579cd",
   "metadata": {},
   "outputs": [
    {
     "name": "stdout",
     "output_type": "stream",
     "text": [
      "0.00127557797973196\n"
     ]
    }
   ],
   "source": [
    "import math\n",
    "numero = 3.14156\n",
    "error_relativo = abs((math.pi - 3.1456) / math.pi)\n",
    "print(error_relativo)\n"
   ]
  },
  {
   "cell_type": "markdown",
   "id": "660cb096",
   "metadata": {},
   "source": [
    "### Error relativo porcentual\n",
    "$$\n",
    "E_r = \\frac{|V_{real} - V_{aproximado}|}{|V_{real}|} * 100\n",
    "$$"
   ]
  },
  {
   "cell_type": "code",
   "execution_count": 8,
   "id": "879dda18",
   "metadata": {},
   "outputs": [
    {
     "name": "stdout",
     "output_type": "stream",
     "text": [
      "0.127557797973196\n"
     ]
    }
   ],
   "source": [
    "import math\n",
    "numero = 3.14156\n",
    "error_porcentual = abs((math.pi - 3.1456) / math.pi) * 100\n",
    "print(error_porcentual)"
   ]
  },
  {
   "cell_type": "markdown",
   "id": "a8cf9d7c",
   "metadata": {},
   "source": [
    ">📌**Nota:** Todos los errores abtes vistos, nos ayuda en esta materia para tener exactitud y presición."
   ]
  }
 ],
 "metadata": {
  "kernelspec": {
   "display_name": "Python 3",
   "language": "python",
   "name": "python3"
  },
  "language_info": {
   "codemirror_mode": {
    "name": "ipython",
    "version": 3
   },
   "file_extension": ".py",
   "mimetype": "text/x-python",
   "name": "python",
   "nbconvert_exporter": "python",
   "pygments_lexer": "ipython3",
   "version": "3.13.3"
  }
 },
 "nbformat": 4,
 "nbformat_minor": 5
}
