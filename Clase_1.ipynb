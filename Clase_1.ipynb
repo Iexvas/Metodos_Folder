{
 "cells": [
  {
   "cell_type": "markdown",
   "id": "79b06f22",
   "metadata": {},
   "source": [
    "# CLASE 03/22/2025  \n",
    "## Método Analíticos\n",
    "- Para tomar en cuenta soluciones matemáticas\n",
    "- Da una solución exacta\n",
    "- Esta es probable con solución\n",
    "  "
   ]
  },
  {
   "cell_type": "markdown",
   "id": "6aeb4dd8",
   "metadata": {},
   "source": [
    "## Método Numéricos\n",
    "- Soluciones en expresiones matemáticas\n",
    "- Aproximaciones a los valores\n",
    "- Problemas complejos o sin soulció exacta\n"
   ]
  },
  {
   "cell_type": "markdown",
   "id": "8448ac05",
   "metadata": {},
   "source": [
    "\n",
    "## Tipos de errores\n",
    "### Error de corte o truncamiento:\n",
    "Un algoritmo con truncamiento fijo puede ser exacto, pero no preciso.]"
   ]
  },
  {
   "cell_type": "markdown",
   "id": "2922aec1",
   "metadata": {},
   "source": []
  }
 ],
 "metadata": {
  "language_info": {
   "name": "python"
  }
 },
 "nbformat": 4,
 "nbformat_minor": 5
}
