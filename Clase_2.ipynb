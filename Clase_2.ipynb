{
 "cells": [
  {
   "cell_type": "markdown",
   "id": "9329af85",
   "metadata": {},
   "source": [
    "## Clase 03/23/2025\n",
    "## Representación númerica\n",
    "Como un computadora almacena y maneja número utilizando bits (0 y 1)"
   ]
  },
  {
   "cell_type": "code",
   "execution_count": null,
   "id": "110d41ad",
   "metadata": {},
   "outputs": [
    {
     "name": "stdout",
     "output_type": "stream",
     "text": [
      "Transformación IEEE 754 DE 32 bits\n",
      "Representación IEEE 754 de 32 bits: 0 10000111 00000111010011001100110\n",
      "Representación IEEE 754 de 64 bits: 0 10000000111 0000011101001100110011001100110011001100110011001101\n"
     ]
    }
   ],
   "source": [
    "\n",
    "def binary_enteros(numero):\n",
    "    parte_entera = \"\"\n",
    "    numero =int(numero)\n",
    "\n",
    "    if numero == 0:\n",
    "        return \"0\"\n",
    "    \n",
    "    while numero > 0:\n",
    "        residuo = numero % 2\n",
    "        parte_entera = str(residuo) + parte_entera\n",
    "        numero = numero // 2\n",
    "    return parte_entera\n",
    "\n",
    "def binary_decimal(numero):\n",
    "    parte_decimal = \"\"\n",
    "    numero =  numero - int(numero)\n",
    "\n",
    "    contador = 0\n",
    "\n",
    "    while numero > 0 and contador < 60:\n",
    "        numero *=2\n",
    "        bit = int(numero)\n",
    "        parte_decimal = parte_decimal + str(bit)\n",
    "        numero -= bit\n",
    "        if abs(numero) <1e-10:\n",
    "            break\n",
    "        contador += 1\n",
    "    return parte_decimal\n",
    "\n",
    "def transformacion_32(numero):\n",
    "    signo = 0 if numero >= 0 else 1\n",
    "    numero = abs(numero)\n",
    "\n",
    "    parte_entera_bin = binary_enteros(numero)\n",
    "    parte_decimal_bin = binary_decimal(numero)\n",
    "\n",
    "    if parte_entera_bin ==\"0\":\n",
    "\n",
    "        normalizado =parte_decimal_bin.lstrip(\"0\")\n",
    "        exponente = -len(parte_decimal_bin) + len(normalizado)\n",
    "    else:\n",
    "       \n",
    "        normalizado = parte_entera_bin + parte_decimal_bin\n",
    "        exponente = len(parte_entera_bin)- 1\n",
    "\n",
    "   \n",
    "    sesgo = 127\n",
    "    exponente_bin = binary_enteros(exponente + sesgo)\n",
    "\n",
    "    \n",
    "    mantisa = normalizado[1:24] if len(normalizado)> 1 else \"0\" * 23\n",
    "    mantisa = mantisa.ljust(23, \"0\")\n",
    "\n",
    "    return f\"{signo} {exponente_bin.zfill(8)} {mantisa}\"\n",
    "\n",
    "\n",
    "def transformacion_64(numero):\n",
    "    signo = 0 if numero >= 0 else 1\n",
    "    numero = abs(numero)\n",
    "\n",
    "    parte_entera_bin = binary_enteros(numero)\n",
    "    parte_decimal_bin = binary_decimal(numero)\n",
    "\n",
    "    if parte_entera_bin == \"0\":\n",
    "    \n",
    "        normalizado = parte_decimal_bin.lstrip(\"0\")\n",
    "        exponente = -len(parte_decimal_bin) + len(normalizado)\n",
    "    else:\n",
    "       \n",
    "        normalizado = parte_entera_bin + parte_decimal_bin\n",
    "        exponente = len(parte_entera_bin)- 1\n",
    "\n",
    "  \n",
    "    sesgo = 1023\n",
    "    exponente_bin = binary_enteros(exponente + sesgo)\n",
    "\n",
    "    mantisa = normalizado[1:53] if len(normalizado) > 1 else \"0\" * 52\n",
    "    mantisa = mantisa.ljust(52, \"0\")\n",
    "\n",
    "    return f\"{signo} {exponente_bin.zfill(11)} {mantisa}\"\n",
    "\n",
    "print(\"Transformación IEEE 754\")\n",
    "num_console = float(input(\"Ingrese un número: \"))\n",
    "\n",
    "        \n",
    "transformacion_32 = transformacion_32(num_console)\n",
    "transformacion_64= transformacion_64(num_console)\n",
    "\n",
    "print(f\"Representación IEEE 754 de 32 bits: {transformacion_32}\")\n",
    "print(f\"Representación IEEE 754 de 64 bits: {transformacion_64}\")\n",
    "\n",
    "\n",
    "\n"
   ]
  },
  {
   "cell_type": "markdown",
   "id": "f327f941",
   "metadata": {},
   "source": [
    "## Aritmética de dígitos finitos de computador\n",
    "$$\n",
    "\\pm 0.d_1d_2 \\dots d_k \\times 10^n\n",
    "$$\n"
   ]
  },
  {
   "cell_type": "markdown",
   "id": "c8ca1a8e",
   "metadata": {},
   "source": [
    "### Operaciones\n",
    "Abajo de cada operación estará un ejemplo, suponiendo que **X = 5/7** y **Y = 0.714251**, y usamos redondeo a 5 cifras significativas.\n",
    "\n",
    "**1**. Suma\n",
    "$$\n",
    " x \\oplus y = f_l(f_l(x) + f_l(y)) \n",
    "$$\n",
    "\n"
   ]
  },
  {
   "cell_type": "code",
   "execution_count": 17,
   "id": "e9a2a528",
   "metadata": {},
   "outputs": [
    {
     "name": "stdout",
     "output_type": "stream",
     "text": [
      "Suma: 1.42854\n",
      "Resultado en punto flotante: 0.1 * 10^1\n"
     ]
    }
   ],
   "source": [
    "x = 0.71429\n",
    "y = 0.71425\n",
    "resultado = x + y\n",
    "\n",
    "def represenacion_punto_flotante(numero):\n",
    "    \n",
    "    signo = \"-\" if numero < 0 else \"\"\n",
    "    numero = abs(numero)\n",
    "\n",
    "    exponente =0\n",
    "    if numero != 0:\n",
    "        while numero >=1:\n",
    "            numero /= 10\n",
    "            exponente += 1\n",
    "        while numero < 0.1:\n",
    "            numero *= 10\n",
    "            exponente -= 1\n",
    "\n",
    "\n",
    "\n",
    "    mantisa = f\"{numero:.1f}\".lstrip(\"0\")\n",
    "    return f\"{signo}0{mantisa} * 10^{exponente}\"\n",
    "\n",
    "resultado_punto_flotante = represenacion_punto_flotante(resultado)\n",
    "\n",
    "print(f\"Suma: {resultado}\")\n",
    "print(f\"Resultado en punto flotante: {resultado_punto_flotante}\")"
   ]
  },
  {
   "cell_type": "markdown",
   "id": "99be076b",
   "metadata": {},
   "source": [
    "**2**. Resta\n",
    "$$\n",
    " x \\ominus y = f_l(f_l(x) - f_l(y)) \n",
    "$$\n"
   ]
  },
  {
   "cell_type": "code",
   "execution_count": 18,
   "id": "55959282",
   "metadata": {},
   "outputs": [
    {
     "name": "stdout",
     "output_type": "stream",
     "text": [
      "Resta: 3.999999999992898e-05\n",
      "Resultado en punto flotante: 0.4 * 10^-4\n"
     ]
    }
   ],
   "source": [
    "x = 0.71429\n",
    "y = 0.71425\n",
    "resultado = x - y\n",
    "\n",
    "def represenacion_punto_flotante(numero):\n",
    "    \n",
    "    signo = \"-\" if numero < 0 else \"\"\n",
    "    numero = abs(numero)\n",
    "\n",
    "    exponente =0\n",
    "    if numero != 0:\n",
    "        while numero >=1:\n",
    "            numero /= 10\n",
    "            exponente += 1\n",
    "        while numero < 0.1:\n",
    "            numero *= 10\n",
    "            exponente -= 1\n",
    "\n",
    "\n",
    "\n",
    "    mantisa = f\"{numero:.1f}\".lstrip(\"0\")\n",
    "    return f\"{signo}0{mantisa} * 10^{exponente}\"\n",
    "\n",
    "resultado_punto_flotante = represenacion_punto_flotante(resultado)\n",
    "\n",
    "print(f\"Resta: {resultado}\")\n",
    "print(f\"Resultado en punto flotante: {resultado_punto_flotante}\")"
   ]
  },
  {
   "cell_type": "markdown",
   "id": "b4062459",
   "metadata": {},
   "source": [
    "**3**. Multiplicación\n",
    "$$\n",
    "x \\otimes y = f_l(f_l(x) * f_l(y)) \n",
    "$$\n",
    "\n"
   ]
  },
  {
   "cell_type": "code",
   "execution_count": null,
   "id": "69c05233",
   "metadata": {},
   "outputs": [
    {
     "name": "stdout",
     "output_type": "stream",
     "text": [
      "Resta: 0.5101816325\n",
      "Resultado en punto flotante: 0.5 * 10^0\n"
     ]
    }
   ],
   "source": [
    "x = 0.71429\n",
    "y = 0.71425\n",
    "resultado = x * y\n",
    "\n",
    "def represenacion_punto_flotante(numero):\n",
    "    \n",
    "    signo = \"-\" if numero < 0 else \"\"\n",
    "    numero = abs(numero)\n",
    "\n",
    "    exponente =0\n",
    "    if numero != 0:\n",
    "        while numero >=1:\n",
    "            numero /= 10\n",
    "            exponente += 1\n",
    "        while numero < 0.1:\n",
    "            numero *= 10\n",
    "            exponente -= 1\n",
    "\n",
    "\n",
    "\n",
    "    mantisa = f\"{numero:.1f}\".lstrip(\"0\")\n",
    "    return f\"{signo}0{mantisa} * 10^{exponente}\"\n",
    "\n",
    "resultado_punto_flotante = represenacion_punto_flotante(resultado)\n",
    "\n",
    "print(f\"Multiplicación: {resultado}\")\n",
    "print(f\"Resultado en punto flotante: {resultado_punto_flotante}\")"
   ]
  },
  {
   "cell_type": "markdown",
   "id": "f189ca17",
   "metadata": {},
   "source": [
    "**4** División\n",
    "$$\n",
    "x \\oslash y = f_l\\left(\\frac{f_l(x)} {f_l(y)}\\right)  "
   ]
  },
  {
   "cell_type": "code",
   "execution_count": null,
   "id": "7047ce24",
   "metadata": {},
   "outputs": [
    {
     "name": "stdout",
     "output_type": "stream",
     "text": [
      "Resta: 1.00005600280014\n",
      "Resultado en punto flotante: 0.1 * 10^1\n"
     ]
    }
   ],
   "source": [
    "x = 0.71429\n",
    "y = 0.71425\n",
    "resultado = x / y\n",
    "\n",
    "def represenacion_punto_flotante(numero):\n",
    "    \n",
    "    signo = \"-\" if numero < 0 else \"\"\n",
    "    numero = abs(numero)\n",
    "\n",
    "    exponente =0\n",
    "    if numero != 0:\n",
    "        while numero >=1:\n",
    "            numero /= 10\n",
    "            exponente += 1\n",
    "        while numero < 0.1:\n",
    "            numero *= 10\n",
    "            exponente -= 1\n",
    "\n",
    "\n",
    "\n",
    "    mantisa = f\"{numero:.1f}\".lstrip(\"0\")\n",
    "    return f\"{signo}0{mantisa} * 10^{exponente}\"\n",
    "\n",
    "resultado_punto_flotante = represenacion_punto_flotante(resultado)\n",
    "\n",
    "print(f\"División: {resultado}\")\n",
    "print(f\"Resultado en punto flotante: {resultado_punto_flotante}\")"
   ]
  },
  {
   "cell_type": "markdown",
   "id": "739c317a",
   "metadata": {},
   "source": [
    "## Convergencia, Divergencia y Tolerancia\n",
    "### Convergencia\n",
    "Converge si, al aumentar el número de iteraciones, los resultados se acercan cada vez más a la solución exacta."
   ]
  },
  {
   "cell_type": "code",
   "execution_count": 1,
   "id": "913c72fe",
   "metadata": {},
   "outputs": [
    {
     "data": {
      "image/png": "[encoded data removed]",
      "text/plain": [
       "<Figure size 1000x600 with 1 Axes>"
      ]
     },
     "metadata": {},
     "output_type": "display_data"
    }
   ],
   "source": [
    "import matplotlib.pyplot as plt\n",
    "import numpy as np\n",
    "\n",
    "def generar_secuencia(n_max):\n",
    "    \"\"\"\n",
    "    Genera una secuencia que converge a un valor límite.\n",
    "    En este caso, usamos a_n = 1/n, que converge a 0.\n",
    "    \"\"\"\n",
    "    secuencia = [1 / n for n in range(1, n_max + 1)]\n",
    "    return secuencia\n",
    "\n",
    "def graficar_convergencia(secuencia, limite):\n",
    "    \"\"\"\n",
    "    Grafica la convergencia de la secuencia hacia el límite.\n",
    "    \"\"\"\n",
    "    n = np.arange(1, len(secuencia) + 1)\n",
    "    plt.figure(figsize=(10, 6))\n",
    "    plt.plot(n, secuencia, label=\"Secuencia $a_n$\", marker=\"o\", linestyle=\"-\")\n",
    "    plt.axhline(y=limite, color=\"r\", linestyle=\"--\", label=f\"Límite = {limite}\")\n",
    "    plt.title(\"Convergencia de la Secuencia\")\n",
    "    plt.xlabel(\"n (Número de iteraciones)\")\n",
    "    plt.ylabel(\"$a_n$\")\n",
    "    plt.legend()\n",
    "    plt.grid()\n",
    "    plt.show()\n",
    "\n",
    "# Parámetros\n",
    "n_max = 50  # Número máximo de iteraciones\n",
    "limite = 0  # Límite al que converge la secuencia\n",
    "\n",
    "# Generar y graficar la secuencia\n",
    "secuencia = generar_secuencia(n_max)\n",
    "graficar_convergencia(secuencia, limite)"
   ]
  },
  {
   "cell_type": "code",
   "execution_count": null,
   "id": "d25af9ad",
   "metadata": {},
   "outputs": [],
   "source": []
  }
 ],
 "metadata": {
  "kernelspec": {
   "display_name": "Python 3",
   "language": "python",
   "name": "python3"
  },
  "language_info": {
   "codemirror_mode": {
    "name": "ipython",
    "version": 3
   },
   "file_extension": ".py",
   "mimetype": "text/x-python",
   "name": "python",
   "nbconvert_exporter": "python",
   "pygments_lexer": "ipython3",
   "version": "3.13.3"
  }
 },
 "nbformat": 4,
 "nbformat_minor": 5
}
