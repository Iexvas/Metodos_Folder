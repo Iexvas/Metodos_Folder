{
 "cells": [
  {
   "cell_type": "markdown",
   "id": "3ccbc2c7",
   "metadata": {},
   "source": [
    "<h1 style=\"text-align:center;\">ESCUELA POLITÉCNICA NACIONAL</h1>\n",
    "<h2 style=\"text-align:center;\">FACULTAD DE INGENIERÍA DE SISTEMAS</h2>\n",
    "<h3 style=\"text-align:center;\">INGENIERÍA EN COMPUTACIÓN</h3>"
   ]
  },
  {
   "cell_type": "markdown",
   "id": "a4cea94e",
   "metadata": {},
   "source": [
    "**PERÍODO ACADÉMICO:** 2025-A  \n",
    "**ASIGNATURA:** ICCD412 Métodos Numéricos  \n",
    "**GRUPO:** GR2  \n",
    "**TIPO DE INSTRUMENTO:** Clase_4<br>\n",
    "**FECHA DE ENTREGA LÍMITE:** [08/06/2025]  \n",
    "**ALUMNO:** Alexis Vasco"
   ]
  },
  {
   "cell_type": "markdown",
   "id": "41a9f01e",
   "metadata": {},
   "source": [
    "### Método de la bisección \n",
    "Es una de las formas más simples que se usa para encontrar la raíz\n",
    " de una ecuación polinómica, este método se basa en el teorema del valor intermedio. \n",
    " Lo trabaja mediante intervalos y realiza divisiones sucesivas hasta approximarse a un valor real, seleccionando el sub-intervalo donde se mantenga el signo de la función.\n"
   ]
  },
  {
   "cell_type": "code",
   "execution_count": 1,
   "id": "4478daa5",
   "metadata": {},
   "outputs": [
    {
     "name": "stdout",
     "output_type": "stream",
     "text": [
      "Iteración 0: c = 1.5,f(c) =-0.125\n",
      "Iteración 1: c = 1.75,f(c) =1.609375\n",
      "Iteración 2: c = 1.625,f(c) =0.666015625\n",
      "Iteración 3: c = 1.5625,f(c) =0.252197265625\n",
      "Iteración 4: c = 1.53125,f(c) =0.059112548828125\n",
      "Iteración 5: c = 1.515625,f(c) =-0.034053802490234375\n",
      "Iteración 6: c = 1.5234375,f(c) =0.012250423431396484\n",
      "Iteración 7: c = 1.51953125,f(c) =-0.010971248149871826\n",
      "Iteración 8: c = 1.521484375,f(c) =0.0006221756339073181\n",
      "Iteración 9: c = 1.5205078125,f(c) =-0.005178886465728283\n",
      "Iteración 10: c = 1.52099609375,f(c) =-0.002279443317092955\n",
      "Iteración 11: c = 1.521240234375,f(c) =-0.0008289058605441824\n",
      "Iteración 12: c = 1.5213623046875,f(c) =-0.0001034331235132413\n",
      "Iteración 13: c = 1.52142333984375,f(c) =0.0002593542519662151\n",
      "Iteración 14: c = 1.521392822265625,f(c) =7.795631350404619e-05\n",
      "Iteración 15: c = 1.5213775634765625,f(c) =-1.2739467674549587e-05\n",
      "Iteración 16: c = 1.5213851928710938,f(c) =3.260815724592803e-05\n",
      "Iteración 17: c = 1.5213813781738281,f(c) =9.934278368817218e-06\n",
      "Iteración 18: c = 1.5213794708251953,f(c) =-1.402611257361741e-06\n",
      "La raíz aproximada es: 1.5213804244995117\n"
     ]
    }
   ],
   "source": [
    "def biseccion(funcion, a, b, tolerancia):\n",
    "  \n",
    "    if funcion(a) * funcion(b) >= 0:\n",
    "        print(\"El método de la bisección no se puede realizar en este intervalo.\")\n",
    "        return None\n",
    "\n",
    "    iteracion = 0\n",
    "    while (b - a) / 2 > tolerancia:\n",
    "        c = (a + b)/ 2\n",
    "        print(f\"Iteración {iteracion}: c = {c},f(c) ={funcion(c)}\")\n",
    "\n",
    "        if funcion(c)== 0:\n",
    "            return c\n",
    "        elif funcion(a) *funcion(c) < 0:\n",
    "            b = c\n",
    "        else:\n",
    "            a = c\n",
    "\n",
    "        iteracion =iteracion + 1\n",
    "\n",
    "    return (a +b)/ 2\n",
    "\n",
    "def funcion_ejemplo(x):\n",
    "    return x**3 - x - 2  \n",
    "\n",
    "a = 1  \n",
    "b = 2  \n",
    "tolerancia = 1e-6 \n",
    "\n",
    "raiz = biseccion(funcion_ejemplo, a, b, tolerancia)\n",
    "if raiz is not None:\n",
    "    print(f\"La raíz aproximada es: {raiz }\")"
   ]
  },
  {
   "cell_type": "code",
   "execution_count": null,
   "id": "94b3c85e",
   "metadata": {},
   "outputs": [],
   "source": []
  }
 ],
 "metadata": {
  "kernelspec": {
   "display_name": "Python 3",
   "language": "python",
   "name": "python3"
  },
  "language_info": {
   "codemirror_mode": {
    "name": "ipython",
    "version": 3
   },
   "file_extension": ".py",
   "mimetype": "text/x-python",
   "name": "python",
   "nbconvert_exporter": "python",
   "pygments_lexer": "ipython3",
   "version": "3.13.3"
  }
 },
 "nbformat": 4,
 "nbformat_minor": 5
}
