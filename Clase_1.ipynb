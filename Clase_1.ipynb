{
 "cells": [
  {
   "cell_type": "markdown",
   "id": "79b06f22",
   "metadata": {},
   "source": [
    "# CLASE 03/22/2025  \n",
    "## Método Analíticos\n",
    "- Para tomar en cuenta soluciones matemáticas\n",
    "- Da una solución exacta\n",
    "- Esta es probable con solución\n",
    "  "
   ]
  },
  {
   "cell_type": "markdown",
   "id": "6aeb4dd8",
   "metadata": {},
   "source": [
    "## Método Numéricos\n",
    "- Soluciones en expresiones matemáticas\n",
    "- Aproximaciones a los valores\n",
    "- Problemas complejos o sin soulció exacta\n"
   ]
  },
  {
   "cell_type": "markdown",
   "id": "8448ac05",
   "metadata": {},
   "source": [
    "##  Tipos de errores\n",
    "\n",
    "###  Error de corte o truncamiento\n",
    "\n",
    "- Se produce cuando **cortamos** un número sin aplicar redondeo, según el número de cifras significativas solicitadas.\n",
    "- Un algoritmo con **truncamiento fijo** puede ser **exacto** (cumple con su propósito), pero **no necesariamente preciso** (no se acerca al valor real).\n",
    "- Es común en implementaciones numéricas cuando se busca simplicidad o rapidez.\n",
    "> 📌 **Nota:** Aunque el truncamiento puede parecer inocente, puede acumular errores en algoritmos iterativos.\n"
   ]
  },
  {
   "cell_type": "code",
   "execution_count": 5,
   "id": "18240b75",
   "metadata": {},
   "outputs": [
    {
     "name": "stdout",
     "output_type": "stream",
     "text": [
      " Número dado: 2.7182818284\n",
      " Número hecho el truncamiento :2.7182\n"
     ]
    }
   ],
   "source": [
    "numero_dado = 2.7182818284\n",
    "num_singificativas = 4\n",
    "factor = 10 ** num_singificativas\n",
    "truncamiento = int(numero_dado * factor)/factor\n",
    "\n",
    "print(f\" Número dado: {numero_dado}\")\n",
    "print(f\" Número hecho el truncamiento :{truncamiento}\")\n"
   ]
  },
  {
   "cell_type": "markdown",
   "id": "12546fc5",
   "metadata": {},
   "source": [
    "### Error de redondeo\n",
    "- Redondeamos según el número de sifras singificativas, si le numero de a lado de ese número es mayor o igual que 5, se le redondea sumando 1 al número hasta donde llega las sifras sinficativas.\n",
    "> 📌**Nota:** Un algoritmo con mucho redondeo, puede ser preciso pero no exacto."
   ]
  },
  {
   "cell_type": "code",
   "execution_count": 9,
   "id": "310583d1",
   "metadata": {},
   "outputs": [
    {
     "name": "stdout",
     "output_type": "stream",
     "text": [
      " Número dado: 2.7182818284\n",
      " Número hecho el truncamiento :2.7183\n"
     ]
    }
   ],
   "source": [
    "numero_dado = 2.7182818284\n",
    "num_singificativas = 4\n",
    "factor = 10 ** num_singificativas\n",
    "redondeo = round(numero_dado * factor)/factor\n",
    "\n",
    "print(f\" Número dado: {numero_dado}\")\n",
    "print(f\" Número hecho el truncamiento :{redondeo}\")"
   ]
  },
  {
   "cell_type": "code",
   "execution_count": null,
   "id": "54aed3c6",
   "metadata": {},
   "outputs": [],
   "source": []
  }
 ],
 "metadata": {
  "kernelspec": {
   "display_name": "Python 3",
   "language": "python",
   "name": "python3"
  },
  "language_info": {
   "codemirror_mode": {
    "name": "ipython",
    "version": 3
   },
   "file_extension": ".py",
   "mimetype": "text/x-python",
   "name": "python",
   "nbconvert_exporter": "python",
   "pygments_lexer": "ipython3",
   "version": "3.13.2"
  }
 },
 "nbformat": 4,
 "nbformat_minor": 5
}
