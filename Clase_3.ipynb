{
 "cells": [
  {
   "cell_type": "markdown",
   "id": "3ccbc2c7",
   "metadata": {},
   "source": [
    "<h1 style=\"text-align:center;\">ESCUELA POLITÉCNICA NACIONAL</h1>\n",
    "<h2 style=\"text-align:center;\">FACULTAD DE INGENIERÍA DE SISTEMAS</h2>\n",
    "<h3 style=\"text-align:center;\">INGENIERÍA EN COMPUTACIÓN</h3>"
   ]
  },
  {
   "cell_type": "markdown",
   "id": "a4cea94e",
   "metadata": {},
   "source": [
    "**PERÍODO ACADÉMICO:** 2025-A  \n",
    "**ASIGNATURA:** ICCD412 Métodos Numéricos  \n",
    "**GRUPO:** GR2  \n",
    "**TIPO DE INSTRUMENTO:** Clase_3<br>\n",
    "**FECHA DE ENTREGA LÍMITE:** [04/05/2025]  \n",
    "**ALUMNO:** Alexis Vasco"
   ]
  },
  {
   "cell_type": "markdown",
   "id": "41a9f01e",
   "metadata": {},
   "source": []
  }
 ],
 "metadata": {
  "language_info": {
   "name": "python"
  }
 },
 "nbformat": 4,
 "nbformat_minor": 5
}
