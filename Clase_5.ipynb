{
 "cells": [
  {
   "cell_type": "markdown",
   "id": "3226adb2",
   "metadata": {},
   "source": [
    "<h1 style=\"text-align:center;\">ESCUELA POLITÉCNICA NACIONAL</h1>\n",
    "<h2 style=\"text-align:center;\">FACULTAD DE INGENIERÍA DE SISTEMAS</h2>\n",
    "<h3 style=\"text-align:center;\">INGENIERÍA EN COMPUTACIÓN</h3>"
   ]
  },
  {
   "cell_type": "markdown",
   "id": "22c0795a",
   "metadata": {},
   "source": [
    "**PERÍODO ACADÉMICO:** 2025-A  \n",
    "**ASIGNATURA:** ICCD412 Métodos Numéricos  \n",
    "**GRUPO:** GR2  \n",
    "**TIPO DE INSTRUMENTO:** Clase_5<br>\n",
    "**FECHA DE ENTREGA LÍMITE:** [08/06/2025]  \n",
    "**ALUMNO:** Alexis Vasco"
   ]
  },
  {
   "cell_type": "markdown",
   "id": "e3b37e16",
   "metadata": {},
   "source": [
    "## Método de Newont-Raphson\n",
    "Esta técnica se basa en las derivadas para encontrar las raíces de funciones a través de un proceso iterativo. A partir de un valor inicial se aplica una fórmula que usa la derivada de la función para generar mejores aproximaciones en cada paso."
   ]
  },
  {
   "cell_type": "code",
   "execution_count": 3,
   "id": "6cfeee2f",
   "metadata": {},
   "outputs": [
    {
     "name": "stdout",
     "output_type": "stream",
     "text": [
      "Iteración 0: x= 1.5217391304347827, f(x) = -0.125\n",
      "Iteración 1: x= 1.5213798059647863, f(x) = 0.0021369277554046384\n",
      "Iteración 2: x= 1.5213797068045751, f(x) = 5.893874259754739e-07\n",
      "La raíz aproximada es:1.5213797068045751\n"
     ]
    }
   ],
   "source": [
    "def newton_raphson(funcion, derivada, x0, tolerancia, max_iteraciones):\n",
    "   \n",
    "    iteracion = 0\n",
    "    while iteracion < max_iteraciones:\n",
    "        fx = funcion(x0)\n",
    "        dfx = derivada(x0)\n",
    "\n",
    "        if dfx == 0:\n",
    "            print(\"El método no puede funcionar si la derivada de la fución es  0.\")\n",
    "            return None\n",
    "\n",
    "        x1 = x0- fx / dfx\n",
    "        print(f\"Iteración {iteracion}: x= {x1}, f(x) = {fx}\")\n",
    "\n",
    "        if abs(x1 - x0)< tolerancia:\n",
    "            return x1\n",
    "\n",
    "        x0 = x1\n",
    "        iteracion += 1\n",
    "\n",
    "    print(\"El método no convergió en el número máximo de iteraciones.\")\n",
    "    return None\n",
    "\n",
    "def funcion_ejemplo(x):\n",
    "    return x**3 - x - 2 \n",
    "\n",
    "def derivada_ejemplo(x):\n",
    "    return 3 * x**2 - 1 \n",
    "x0 = 1.5  \n",
    "tolerancia = 1e-6  \n",
    "max_iteraciones = 100  \n",
    "\n",
    "raiz = newton_raphson(funcion_ejemplo, derivada_ejemplo,  x0,tolerancia,max_iteraciones)\n",
    "if raiz is not None:\n",
    "    print(f\"La raíz aproximada es:{ raiz}\")"
   ]
  },
  {
   "cell_type": "markdown",
   "id": "edf87fcf",
   "metadata": {},
   "source": [
    "## Método de la Secante\n",
    " Esta técnica se utiliza en la resolución de ecuaciones no lineales. Esta se basa en ir trazando rectas secantes a una curva de la función dada, y con estas mismas vamos comprobando la intersección de estas con el eje x para verificar si es la raíz que buscamos."
   ]
  },
  {
   "cell_type": "code",
   "execution_count": 4,
   "id": "74116e55",
   "metadata": {},
   "outputs": [
    {
     "name": "stdout",
     "output_type": "stream",
     "text": [
      "Iteración 0:x = 1.3333333333333335, f(x) =-0.9629629629629624\n",
      "Iteración 1:x = 1.462686567164179, f(x) =-0.3333388747951045\n",
      "Iteración 2:x = 1.5311694321412044, f(x) =0.05862641770944954\n",
      "Iteración 3:x = 1.5209264205152802, f(x) =-0.0026933002019968733\n",
      "Iteración 4:x = 1.5213763166697438, f(x) =-2.0150192387102805e-05\n",
      "Iteración 5:x = 1.5213797079848717, f(x) =7.015477976324291e-09\n",
      "Iteración 6:x = 1.5213797068045645, f(x) =-1.84297022087776e-14\n",
      "La raíz aproximada es:1.5213797068045645\n"
     ]
    }
   ],
   "source": [
    "def metodo_secante(funcion, x0, x1, tolerancia, max_iteraciones):\n",
    "  \n",
    "    iteracion = 0\n",
    "    while iteracion < max_iteraciones:\n",
    "        fx0 = funcion(x0)\n",
    "        fx1 = funcion(x1)\n",
    "\n",
    "        if fx1 - fx0== 0:\n",
    "            print(\"La división por cero ocurrió.\")\n",
    "            return None\n",
    "\n",
    "        x2 = x1 - fx1* (x1 - x0) /(fx1 - fx0)\n",
    "        print(f\"Iteración {iteracion}:x = {x2}, f(x) ={funcion(x2)}\")\n",
    "\n",
    "        if abs(x2 - x1) <tolerancia:\n",
    "            return x2\n",
    "\n",
    "        x0, x1 = x1, x2\n",
    "        iteracion = iteracion + 1\n",
    "\n",
    "    print(\"El método no convergió en el número máximo de iteraciones.\")\n",
    "    return None\n",
    "\n",
    "\n",
    "\n",
    "def funcion_ejemplo(x):\n",
    "    return x**3 - x - 2  \n",
    "\n",
    "x0 = 1  # \n",
    "x1 = 2  \n",
    "tolerancia = 1e-6 \n",
    "max_iteraciones = 100  \n",
    "raiz = metodo_secante(funcion_ejemplo, x0,x1, tolerancia, max_iteraciones)\n",
    "if raiz is not None:\n",
    "    print(f\"La raíz aproximada es:{ raiz}\")"
   ]
  },
  {
   "cell_type": "code",
   "execution_count": null,
   "id": "bc8bd706",
   "metadata": {},
   "outputs": [],
   "source": []
  }
 ],
 "metadata": {
  "kernelspec": {
   "display_name": "Python 3",
   "language": "python",
   "name": "python3"
  },
  "language_info": {
   "codemirror_mode": {
    "name": "ipython",
    "version": 3
   },
   "file_extension": ".py",
   "mimetype": "text/x-python",
   "name": "python",
   "nbconvert_exporter": "python",
   "pygments_lexer": "ipython3",
   "version": "3.13.3"
  }
 },
 "nbformat": 4,
 "nbformat_minor": 5
}
