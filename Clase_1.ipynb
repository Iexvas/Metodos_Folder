{
 "cells": [
  {
   "cell_type": "markdown",
   "id": "79b06f22",
   "metadata": {},
   "source": [
    "# CLASE 03/22/2025  \n",
    "## Método Analíticos\n",
    "- Para tomar en cuenta soluciones matemáticas\n",
    "- Da una solución exacta\n",
    "- Esta es probable con solución\n",
    "  "
   ]
  },
  {
   "cell_type": "markdown",
   "id": "6aeb4dd8",
   "metadata": {},
   "source": [
    "## Método Numéricos\n",
    "- Soluciones en expresiones matemáticas\n",
    "- Aproximaciones a los valores\n",
    "- Problemas complejos o sin soulció exacta\n"
   ]
  },
  {
   "cell_type": "markdown",
   "id": "8448ac05",
   "metadata": {},
   "source": [
    "##  Tipos de errores\n",
    "\n",
    "###  Error de corte o truncamiento\n",
    "\n",
    "- Se produce cuando **cortamos** un número sin aplicar redondeo, según el número de cifras significativas solicitadas.\n",
    "- Un algoritmo con **truncamiento fijo** puede ser **exacto** (cumple con su propósito), pero **no necesariamente preciso** (no se acerca al valor real).\n",
    "- Es común en implementaciones numéricas cuando se busca simplicidad o rapidez.\n",
    "> 📌 **Nota:** Aunque el truncamiento puede parecer inocente, puede acumular errores en algoritmos iterativos.\n"
   ]
  },
  {
   "cell_type": "code",
   "execution_count": null,
   "id": "18240b75",
   "metadata": {},
   "outputs": [],
   "source": [
    "numero_original = 123456789\n",
    "cifras_significativas"
   ]
  }
 ],
 "metadata": {
  "language_info": {
   "name": "python"
  }
 },
 "nbformat": 4,
 "nbformat_minor": 5
}
