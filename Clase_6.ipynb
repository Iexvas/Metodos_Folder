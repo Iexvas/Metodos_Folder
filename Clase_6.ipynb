{
 "cells": [
  {
   "cell_type": "markdown",
   "id": "6127b180",
   "metadata": {},
   "source": [
    "<h1 style=\"text-align:center;\">ESCUELA POLITÉCNICA NACIONAL</h1>\n",
    "<h2 style=\"text-align:center;\">FACULTAD DE INGENIERÍA DE SISTEMAS</h2>\n",
    "<h3 style=\"text-align:center;\">INGENIERÍA EN COMPUTACIÓN</h3>"
   ]
  },
  {
   "cell_type": "markdown",
   "id": "9f734683",
   "metadata": {},
   "source": [
    "**PERÍODO ACADÉMICO:** 2025-A  \n",
    "**ASIGNATURA:** ICCD412 Métodos Numéricos  \n",
    "**GRUPO:** GR2  \n",
    "**TIPO DE INSTRUMENTO:** Clase_6<br>\n",
    "**FECHA DE ENTREGA LÍMITE:** [08/06/2025]  \n",
    "**ALUMNO:** Alexis Vasco"
   ]
  },
  {
   "cell_type": "markdown",
   "id": "53cc00cd",
   "metadata": {},
   "source": [
    "## Método de la posición falsa\n",
    " Esta técnica consiste en dividir el intervalo cerrado [a,b] en el cual se encuentra una raíz de la función. El método selecciona en cada iteracion un subintervalo donde f(x) cambia de signo, basándose en cuál de los extremos f(a) o f(b) está más cerca de cero."
   ]
  },
  {
   "cell_type": "code",
   "execution_count": 1,
   "id": "570e4835",
   "metadata": {},
   "outputs": [
    {
     "name": "stdout",
     "output_type": "stream",
     "text": [
      "Iteración 0:c = 1.3333333333333335, f(c) = -0.9629629629629624\n",
      "Iteración 1:c = 1.462686567164179, f(c) = -0.3333388747951045\n",
      "Iteración 2:c = 1.5040190039499488, f(c) = -0.10181797660389025\n",
      "Iteración 3:c = 1.516330564760263, f(c) = -0.02989480441927217\n",
      "Iteración 4:c = 1.519918550023356, f(c) = -0.00867506585052058\n",
      "Iteración 5:c = 1.5209574813719304, f(c) = -0.002508805135181813\n",
      "Iteración 6:c = 1.5212577491262855, f(c) = -0.0007248227786378347\n",
      "Iteración 7:c = 1.521344484231523, f(c) = -0.0002093498670601157\n",
      "Iteración 8:c = 1.5213695345376017, f(c) = -6.0461332529015976e-05\n",
      "Iteración 9:c = 1.5213767690871818, f(c) = -1.746113182643505e-05\n",
      "Iteración 10:c = 1.5213788584038939, f(c) = -5.0427109987705165e-06\n",
      "Iteración 11:c = 1.521379461790157, f(c) = -1.4563135952716522e-06\n",
      "Iteración 12:c = 1.5213796360454928, f(c) = -4.205769621457023e-07\n",
      "La raíz aproximada es:1.5213796360454928\n"
     ]
    }
   ],
   "source": [
    "def posicion_falsa(funcion, a, b, tolerancia, max_iteraciones):\n",
    "   \n",
    "    if funcion(a) * funcion(b) >= 0:\n",
    "        print(\"El método de la posición falsa no es aplicable en este intervalo.\")\n",
    "        return None\n",
    "\n",
    "    iteracion = 0\n",
    "    while iteracion < max_iteraciones:\n",
    "      \n",
    "        c = b - (funcion(b) *(b- a)) /(funcion(b) - funcion(a))\n",
    "        print(f\"Iteración {iteracion}:c = {c}, f(c) = {funcion(c)}\")\n",
    "\n",
    "        if abs(funcion(c))< tolerancia:\n",
    "            return c\n",
    "        if funcion(a)* funcion(c) <0:\n",
    "            b = c\n",
    "        else:\n",
    "            a =c\n",
    "\n",
    "        iteracion += 1\n",
    "\n",
    "    print(\"El método no convergió en el número máximo de iteraciones.\")\n",
    "    return None\n",
    "\n",
    "\n",
    "def funcion_ejemplo(x):\n",
    "    return x**3 - x - 2 \n",
    "\n",
    "a = 1  \n",
    "b = 2  \n",
    "tolerancia =1e-6  \n",
    "max_iteraciones = 100 \n",
    "\n",
    "raiz = posicion_falsa(funcion_ejemplo, a, b, tolerancia, max_iteraciones)\n",
    "if raiz is not None:\n",
    "    print(f\"La raíz aproximada es:{raiz }\")"
   ]
  },
  {
   "cell_type": "code",
   "execution_count": null,
   "id": "1e46a79d",
   "metadata": {},
   "outputs": [],
   "source": []
  }
 ],
 "metadata": {
  "kernelspec": {
   "display_name": "Python 3",
   "language": "python",
   "name": "python3"
  },
  "language_info": {
   "codemirror_mode": {
    "name": "ipython",
    "version": 3
   },
   "file_extension": ".py",
   "mimetype": "text/x-python",
   "name": "python",
   "nbconvert_exporter": "python",
   "pygments_lexer": "ipython3",
   "version": "3.13.3"
  }
 },
 "nbformat": 4,
 "nbformat_minor": 5
}
